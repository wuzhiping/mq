{
 "cells": [
  {
   "cell_type": "code",
   "execution_count": 3,
   "id": "92b4da0e-9d2c-4ce9-a639-b0624c34ae4e",
   "metadata": {
    "collapsed": true,
    "jupyter": {
     "outputs_hidden": true
    }
   },
   "outputs": [
    {
     "name": "stdout",
     "output_type": "stream",
     "text": [
      "Requirement already satisfied: pynsq in /usr/local/lib/python3.12/site-packages (0.9.1)\n",
      "Requirement already satisfied: tornado in /usr/local/lib/python3.12/site-packages (from pynsq) (6.4.2)\n",
      "\u001b[33mWARNING: Running pip as the 'root' user can result in broken permissions and conflicting behaviour with the system package manager, possibly rendering your system unusable.It is recommended to use a virtual environment instead: https://pip.pypa.io/warnings/venv. Use the --root-user-action option if you know what you are doing and want to suppress this warning.\u001b[0m\u001b[33m\n",
      "\u001b[0m\n",
      "\u001b[1m[\u001b[0m\u001b[34;49mnotice\u001b[0m\u001b[1;39;49m]\u001b[0m\u001b[39;49m A new release of pip is available: \u001b[0m\u001b[31;49m24.2\u001b[0m\u001b[39;49m -> \u001b[0m\u001b[32;49m25.1.1\u001b[0m\n",
      "\u001b[1m[\u001b[0m\u001b[34;49mnotice\u001b[0m\u001b[1;39;49m]\u001b[0m\u001b[39;49m To update, run: \u001b[0m\u001b[32;49mpip install --upgrade pip\u001b[0m\n",
      "Name: pynsq\n",
      "Version: 0.9.1\n",
      "Summary: official Python client library for NSQ\n",
      "Home-page: https://github.com/nsqio/pynsq\n",
      "Author: Matt Reiferson\n",
      "Author-email: snakes@gmail.com\n",
      "License: \n",
      "Location: /usr/local/lib/python3.12/site-packages\n",
      "Requires: tornado\n",
      "Required-by: \n"
     ]
    }
   ],
   "source": [
    "!pip install pynsq\n",
    "!pip show pynsq"
   ]
  },
  {
   "cell_type": "code",
   "execution_count": 2,
   "id": "135275a5-371d-42d0-9abd-b6d153e46484",
   "metadata": {},
   "outputs": [
    {
     "name": "stdout",
     "output_type": "stream",
     "text": [
      "收到消息: <message>\n"
     ]
    }
   ],
   "source": [
    "import nest_asyncio\n",
    "nest_asyncio.apply()\n",
    "\n",
    "import nsq\n",
    "import tornado.ioloop\n",
    "\n",
    "def message_handler(msg):\n",
    "    print(\"收到消息:\", msg.body.decode())\n",
    "    tornado.ioloop.IOLoop.instance().stop()  # 收到消息后停止事件循环，退出程序\n",
    "    return True  # 表示消息处理成功\n",
    "\n",
    "def consume():\n",
    "    r = nsq.Reader(\n",
    "        message_handler=message_handler,\n",
    "        lookupd_http_addresses=['http://10.17.1.26:4161'],\n",
    "        topic='abc',\n",
    "        channel='c1',\n",
    "        lookupd_poll_interval=15\n",
    "    )\n",
    "    nsq.run()\n",
    "\n",
    "consume()\n",
    "\n"
   ]
  },
  {
   "cell_type": "code",
   "execution_count": 2,
   "id": "c359a3fa-01bd-4cf2-aea0-9994e204caf1",
   "metadata": {},
   "outputs": [
    {
     "name": "stdout",
     "output_type": "stream",
     "text": [
      "OK"
     ]
    }
   ],
   "source": [
    "!curl -d \"<message1>\" http://10.17.1.26:4151/pub?topic=abc"
   ]
  },
  {
   "cell_type": "code",
   "execution_count": 2,
   "id": "4762e840-3705-42f4-b07e-0d7cd4cae459",
   "metadata": {},
   "outputs": [],
   "source": [
    "!curl -X POST \"http://10.17.1.26:4151/channel/delete?topic=abc&channel=c1\""
   ]
  },
  {
   "cell_type": "code",
   "execution_count": null,
   "id": "481bdc29-52f7-43b9-be9c-9ca9fec05161",
   "metadata": {},
   "outputs": [],
   "source": []
  }
 ],
 "metadata": {
  "kernelspec": {
   "display_name": "Python 3 (ipykernel)",
   "language": "python",
   "name": "python3"
  },
  "language_info": {
   "codemirror_mode": {
    "name": "ipython",
    "version": 3
   },
   "file_extension": ".py",
   "mimetype": "text/x-python",
   "name": "python",
   "nbconvert_exporter": "python",
   "pygments_lexer": "ipython3",
   "version": "3.12.6"
  }
 },
 "nbformat": 4,
 "nbformat_minor": 5
}
